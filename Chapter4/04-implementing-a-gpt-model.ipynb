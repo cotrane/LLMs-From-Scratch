{
 "cells": [
  {
   "cell_type": "markdown",
   "metadata": {},
   "source": [
    "## LLM Architecture\n",
    "\n",
    "GPT stands for generative pre-trained transformer and are large deep networks trained to predict the next word in a sequence. Their architecture consists of a stacked number of transformer blocks which we will implement here.\n",
    "\n",
    "In order to load the weights of GPT-2 later on, we will use the parameters used for this model."
   ]
  },
  {
   "cell_type": "code",
   "execution_count": 5,
   "metadata": {},
   "outputs": [],
   "source": [
    "GPT_CONFIG_124M = {\n",
    "    \"vocab_size\": 50257,     # trained on ~50k tokens using BPE tokenizer\n",
    "    \"context_length\": 1024,  # the max number of input tokens the model can handle\n",
    "    \"emb_dim\": 768,          # the dimension of the embeddings\n",
    "    \"n_heads\": 12,           # the number of attention heads\n",
    "    \"n_layers\": 12,          # the number of transformer blocks\n",
    "    \"drop_rate\": 0.1,        # the dropout rate to prevent overfitting\n",
    "    \"qkv_bias\": False        # whether to use bias in the QKV linear layer\n",
    "}"
   ]
  },
  {
   "cell_type": "markdown",
   "metadata": {},
   "source": [
    "We will start by implementing a DummyGPTModel class to make it easier to see what else needs implementing."
   ]
  },
  {
   "cell_type": "code",
   "execution_count": 1,
   "metadata": {},
   "outputs": [],
   "source": [
    "import torch\n",
    "import torch.nn as nn\n",
    "\n",
    "class DummyGPTModel(nn.Module):\n",
    "    def __init__(self, config):\n",
    "        super().__init__()\n",
    "        self.tok_emb = nn.Embedding(config[\"vocab_size\"], config[\"emb_dim\"])\n",
    "        self.pos_emb = nn.Embedding(config[\"context_length\"], config[\"emb_dim\"])\n",
    "        self.drop_emb = nn.Dropout(config[\"drop_rate\"])\n",
    "        self.trf_blocks = nn.Sequential(\n",
    "            *[DummyTransformerBlock(config)\n",
    "            for _ in range(config[\"n_layers\"])]\n",
    "        )\n",
    "        self.final_norm = DummyLayerNorm(config[\"emb_dim\"])\n",
    "        self.out_head = nn.Linear(config[\"emb_dim\"], config[\"vocab_size\"], bias=False)\n",
    "        \n",
    "    def forward(self, in_idx):\n",
    "        batch_size, seq_len = in_idx.shape\n",
    "        tok_embeds = self.tok_emb(in_idx)\n",
    "        pos_embeds = self.pos_emb(torch.arange(seq_len, device=in_idx.device))\n",
    "        x = tok_embeds + pos_embeds\n",
    "        x = self.drop_emb(x)\n",
    "        x = self.trf_blocks(x)\n",
    "        x = self.final_norm(x)\n",
    "        logits = self.out_head(x)\n",
    "        return logits\n",
    "\n",
    "\n",
    "class DummyLayerNorm(nn.Module):\n",
    "    def __init__(self, normalized_shape, eps=1e-5):\n",
    "        super().__init__()\n",
    "        \n",
    "    def forward(self, x):\n",
    "        return x\n",
    "\n",
    "\n",
    "class DummyTransformerBlock(nn.Module):\n",
    "    def __init__(self, config):\n",
    "        super().__init__()\n",
    "        \n",
    "    def forward(self, x):\n",
    "        return x"
   ]
  },
  {
   "cell_type": "markdown",
   "metadata": {},
   "source": [
    "This dummy implementation consists of\n",
    "\n",
    "- token embeddings\n",
    "- positional embeddings\n",
    "- dropout\n",
    "- transformer blocks\n",
    "- final layer norm\n",
    "- linear output head\n",
    "\n",
    "In the forward method we can see how the input data flows through the various components.\n",
    "\n",
    "We now start by preparing our input data and initializing a new 124-million parameter Dummy GPT model."
   ]
  },
  {
   "cell_type": "code",
   "execution_count": 3,
   "metadata": {},
   "outputs": [
    {
     "name": "stdout",
     "output_type": "stream",
     "text": [
      "tensor([[6109, 3626, 6100,  345],\n",
      "        [6109, 1110, 6622,  257]])\n"
     ]
    }
   ],
   "source": [
    "import tiktoken\n",
    "\n",
    "tokenizer = tiktoken.get_encoding(\"gpt2\")\n",
    "\n",
    "batch = []\n",
    "text1 = \"Every effort moves you\"\n",
    "text2 = \"Every day holds a\"\n",
    "\n",
    "batch.append(torch.tensor(tokenizer.encode(text1)))\n",
    "batch.append(torch.tensor(tokenizer.encode(text2)))\n",
    "batch = torch.stack(batch)\n",
    "print(batch)"
   ]
  },
  {
   "cell_type": "code",
   "execution_count": 7,
   "metadata": {},
   "outputs": [
    {
     "name": "stdout",
     "output_type": "stream",
     "text": [
      "Output logits shape: torch.Size([2, 4, 50257])\n",
      "Logits:\n",
      " tensor([[[-1.2034,  0.3201, -0.7130,  ..., -1.5548, -0.2390, -0.4667],\n",
      "         [-0.1192,  0.4539, -0.4432,  ...,  0.2392,  1.3469,  1.2430],\n",
      "         [ 0.5307,  1.6720, -0.4695,  ...,  1.1966,  0.0111,  0.5835],\n",
      "         [ 0.0139,  1.6754, -0.3388,  ...,  1.1586, -0.0435, -1.0400]],\n",
      "\n",
      "        [[-1.0908,  0.1798, -0.9484,  ..., -1.6047,  0.2439, -0.4530],\n",
      "         [-0.7860,  0.5581, -0.0610,  ...,  0.4835, -0.0077,  1.6621],\n",
      "         [ 0.3567,  1.2698, -0.6398,  ..., -0.0162, -0.1296,  0.3717],\n",
      "         [-0.2407, -0.7349, -0.5102,  ...,  2.0057, -0.3694,  0.1814]]],\n",
      "       grad_fn=<UnsafeViewBackward0>)\n"
     ]
    }
   ],
   "source": [
    "torch.manual_seed(123)\n",
    "model = DummyGPTModel(GPT_CONFIG_124M)\n",
    "logits = model(batch)\n",
    "print(\"Output logits shape:\", logits.shape)\n",
    "print(\"Logits:\\n\", logits)"
   ]
  },
  {
   "cell_type": "markdown",
   "metadata": {},
   "source": [
    "## Layer Normalization\n",
    "\n",
    "Training such deep neural networks can cause vanishing or exploding gradients which makes it difficult to find a set of parameters which minimizes the loss function.\n",
    "\n",
    "In order to improve the stability, we add `LayerNormalization` to the network. This normalization will make sure that the activations of a layer have a mean of 0 and a variance of 1 and will speed up convergence of the training process.\n",
    "\n",
    "To illustrate how this works, we go through a toy example of 2 inputs with 5 dimensions and look at the mean and variance before we apply layer normalization."
   ]
  },
  {
   "cell_type": "code",
   "execution_count": 21,
   "metadata": {},
   "outputs": [
    {
     "name": "stdout",
     "output_type": "stream",
     "text": [
      "Output shape: torch.Size([2, 6])\n",
      "Output:\n",
      " tensor([[0.2260, 0.3470, 0.0000, 0.2216, 0.0000, 0.0000],\n",
      "        [0.2133, 0.2394, 0.0000, 0.5198, 0.3297, 0.0000]],\n",
      "       grad_fn=<ReluBackward0>)\n",
      "Mean: tensor([[0.1324],\n",
      "        [0.2170]], grad_fn=<MeanBackward1>)\n",
      "Variance: tensor([[0.0231],\n",
      "        [0.0398]], grad_fn=<VarBackward0>)\n"
     ]
    }
   ],
   "source": [
    "torch.manual_seed(123)\n",
    "batch_example = torch.randn(2, 5)\n",
    "layer = nn.Sequential(nn.Linear(5, 6), nn.ReLU())\n",
    "out = layer(batch_example)\n",
    "print(\"Output shape:\", out.shape)\n",
    "print(\"Output:\\n\", out)\n",
    "\n",
    "mean = out.mean(dim=-1, keepdim=True)\n",
    "var = out.var(dim=-1, keepdim=True)\n",
    "print(\"Mean:\", mean)\n",
    "print(\"Variance:\", var)\n"
   ]
  },
  {
   "cell_type": "markdown",
   "metadata": {},
   "source": [
    "Now we apply layer normalization before checking mean and variance"
   ]
  },
  {
   "cell_type": "code",
   "execution_count": 22,
   "metadata": {},
   "outputs": [
    {
     "name": "stdout",
     "output_type": "stream",
     "text": [
      "Normalized output:\n",
      " tensor([[ 0.6159,  1.4126, -0.8719,  0.5872, -0.8719, -0.8719],\n",
      "        [-0.0189,  0.1121, -1.0876,  1.5173,  0.5647, -1.0876]],\n",
      "       grad_fn=<DivBackward0>)\n",
      "Mean:\n",
      " tensor([[    -0.0000],\n",
      "        [     0.0000]], grad_fn=<MeanBackward1>)\n",
      "Variance:\n",
      " tensor([[1.0000],\n",
      "        [1.0000]], grad_fn=<VarBackward0>)\n"
     ]
    }
   ],
   "source": [
    "torch.set_printoptions(sci_mode=False)  # Improve readability\n",
    "out_norm = (out - mean) / torch.sqrt(var)\n",
    "mean = out_norm.mean(dim=-1, keepdim=True)\n",
    "var = out_norm.var(dim=-1, keepdim=True)\n",
    "print(\"Normalized output:\\n\", out_norm)\n",
    "print(\"Mean:\\n\", mean)\n",
    "print(\"Variance:\\n\", var)"
   ]
  },
  {
   "cell_type": "markdown",
   "metadata": {},
   "source": [
    "Now we are ready to implement a class `LayerNorm`"
   ]
  },
  {
   "cell_type": "code",
   "execution_count": 23,
   "metadata": {},
   "outputs": [],
   "source": [
    "class LayerNorm(nn.Module):\n",
    "    def __init__(self, emb_dim, eps=1e-5):\n",
    "        super().__init__()\n",
    "        self.eps = eps\n",
    "        self.scale = nn.Parameter(torch.ones(emb_dim))\n",
    "        self.shift = nn.Parameter(torch.zeros(emb_dim))\n",
    "        \n",
    "    def forward(self, x):\n",
    "        mean = x.mean(dim=-1, keepdim=True)\n",
    "        # unbiased=False means we divide by N instead of N-1\n",
    "        var = x.var(dim=-1, keepdim=True, unbiased=False)\n",
    "        out = (x - mean) / torch.sqrt(var + self.eps)\n",
    "        return out * self.scale + self.shift"
   ]
  },
  {
   "cell_type": "markdown",
   "metadata": {},
   "source": [
    "Applying it to our test input we find"
   ]
  },
  {
   "cell_type": "code",
   "execution_count": 24,
   "metadata": {},
   "outputs": [
    {
     "name": "stdout",
     "output_type": "stream",
     "text": [
      "Mean:\n",
      " tensor([[    -0.0000],\n",
      "        [     0.0000]], grad_fn=<MeanBackward1>)\n",
      "Variance:\n",
      " tensor([[1.0000],\n",
      "        [1.0000]], grad_fn=<VarBackward0>)\n"
     ]
    }
   ],
   "source": [
    "layer_norm = LayerNorm(emb_dim=5)\n",
    "out_norm = layer_norm(batch_example)\n",
    "mean = out_norm.mean(dim=-1, keepdim=True)\n",
    "var = out_norm.var(dim=-1, keepdim=True, unbiased=False)\n",
    "print(\"Mean:\\n\", mean)\n",
    "print(\"Variance:\\n\", var)"
   ]
  },
  {
   "cell_type": "markdown",
   "metadata": {},
   "source": [
    "### Feed-forward network with GELU activation\n",
    "\n",
    "We need to implement a small feed-forward network as part of the transformer block. Here, we will start by implementing the GELU activation which is a smooth variant of the ReLU activation.\n",
    "\n",
    "$$GELU(x) \\approx 0.5 \\cdot x \\cdot \\big( 1 + tanh \\big[ \\sqrt{ \\frac{2}{\\pi} } \\cdot \\big( x + 0.044715 \\cdot x^3 \\big) \\big] \\big)$$\n",
    "\n",
    "We implement class `GELU` below."
   ]
  },
  {
   "cell_type": "code",
   "execution_count": 26,
   "metadata": {},
   "outputs": [],
   "source": [
    "class GELU(nn.Module):\n",
    "    def __init__(self):\n",
    "        super().__init__()\n",
    "        \n",
    "    def forward(self, x):\n",
    "        return 0.5 * x * (\n",
    "            1 + torch.tanh(\n",
    "                torch.sqrt(torch.tensor(2.0 / torch.pi)) * \n",
    "                (x + 0.044715 * torch.pow(x, 3))\n",
    "            )\n",
    "        )"
   ]
  },
  {
   "cell_type": "markdown",
   "metadata": {},
   "source": [
    "Let's plot it to get a better idea of its shape."
   ]
  },
  {
   "cell_type": "code",
   "execution_count": 29,
   "metadata": {},
   "outputs": [
    {
     "data": {
      "image/png": "[encoded data removed]",
      "text/plain": [
       "<Figure size 800x300 with 2 Axes>"
      ]
     },
     "metadata": {},
     "output_type": "display_data"
    }
   ],
   "source": [
    "import matplotlib.pyplot as plt\n",
    "\n",
    "gelu, relu = GELU(), nn.ReLU()\n",
    "\n",
    "x = torch.linspace(-5, 5, 100)\n",
    "y_gelu, y_relu = gelu(x), relu(x)\n",
    "\n",
    "plt.figure(figsize=(8, 3))\n",
    "for i, (y, label) in enumerate(zip([y_gelu, y_relu], [\"GELU\", \"ReLU\"]), 1):\n",
    "    plt.subplot(1, 2, i)\n",
    "    plt.plot(x, y)\n",
    "    plt.title(f\"{label} activation function\")\n",
    "    plt.xlabel(\"x\")\n",
    "    plt.ylabel(f\"{label}(x)\")\n",
    "    plt.grid(True)\n",
    "plt.tight_layout()\n",
    "plt.show()"
   ]
  },
  {
   "cell_type": "markdown",
   "metadata": {},
   "source": [
    "The smoothness of the GELU function compared to teh ReLU leads to better optimization properties during training which allows for smoother adjustment of the model parameters.\n",
    "\n",
    "Now we use the GELU function to implement our feed-forward network class."
   ]
  },
  {
   "cell_type": "code",
   "execution_count": 31,
   "metadata": {},
   "outputs": [],
   "source": [
    "class FeedForward(nn.Module):\n",
    "    def __init__(self, config):\n",
    "        super().__init__()\n",
    "        self.layers = nn.Sequential(\n",
    "            nn.Linear(config[\"emb_dim\"], 4 * config[\"emb_dim\"]),  # Increase the hidden dimension\n",
    "            GELU(),\n",
    "            nn.Linear(4 * config[\"emb_dim\"], config[\"emb_dim\"]),  # Decrease the output dimension\n",
    "        )\n",
    "        \n",
    "    def forward(self, x):\n",
    "        return self.layers(x)"
   ]
  },
  {
   "cell_type": "code",
   "execution_count": 32,
   "metadata": {},
   "outputs": [
    {
     "name": "stdout",
     "output_type": "stream",
     "text": [
      "Output shape: torch.Size([2, 3, 768])\n"
     ]
    }
   ],
   "source": [
    "ffn = FeedForward(GPT_CONFIG_124M)\n",
    "x = torch.randn(2, 3, GPT_CONFIG_124M[\"emb_dim\"])\n",
    "out = ffn(x)\n",
    "print(\"Output shape:\", out.shape)"
   ]
  },
  {
   "cell_type": "markdown",
   "metadata": {},
   "source": [
    "### Adding shortcut connections\n",
    "\n",
    "Shortcut connection are also called skip or residual connections and allow the input activation and the gradient during back-propagation to pass by a layer. Those connections have been introduced to mitigate the vanishing gradient problem and play a crucial part to maintain the gradient during backpropagation.\n",
    "\n",
    "As an example we implement a example deep network below."
   ]
  },
  {
   "cell_type": "code",
   "execution_count": 33,
   "metadata": {},
   "outputs": [],
   "source": [
    "class ExampleDeepNeuralNetwork(nn.Module):\n",
    "    def __init__(self, layer_sizes, use_shortcut):\n",
    "        super().__init__()\n",
    "        self.use_shortcut = use_shortcut\n",
    "        self.layers = nn.ModuleList()\n",
    "        for i in range(len(layer_sizes) - 1):\n",
    "            self.layers.append(nn.Sequential(\n",
    "                nn.Linear(layer_sizes[i], layer_sizes[i+1]),\n",
    "                nn.ReLU()\n",
    "            ))\n",
    "    \n",
    "    def forward(self, x):\n",
    "        for layer in self.layers:\n",
    "            x_out = layer(x)\n",
    "            if self.use_shortcut and x.shape == x_out.shape:\n",
    "                x = x + x_out\n",
    "            else:\n",
    "                x = x_out\n",
    "        return x"
   ]
  },
  {
   "cell_type": "markdown",
   "metadata": {},
   "source": [
    "Let's test the example network with and without shortcut connections and look at their gradients."
   ]
  },
  {
   "cell_type": "code",
   "execution_count": 38,
   "metadata": {},
   "outputs": [
    {
     "name": "stdout",
     "output_type": "stream",
     "text": [
      "Without shortcut connections:\n",
      "layers.0.0.weight has gradient mean of 0.0006875665276311338\n",
      "layers.1.0.weight has gradient mean of 0.0019083978841081262\n",
      "layers.2.0.weight has gradient mean of 0.0038205476012080908\n",
      "layers.3.0.weight has gradient mean of 0.0038610314950346947\n",
      "layers.4.0.weight has gradient mean of 0.02481495402753353\n",
      "\n",
      "With shortcut connections:\n",
      "layers.0.0.weight has gradient mean of 0.5557742714881897\n",
      "layers.1.0.weight has gradient mean of 0.09135337918996811\n",
      "layers.2.0.weight has gradient mean of 0.7913904190063477\n",
      "layers.3.0.weight has gradient mean of 0.21711303293704987\n",
      "layers.4.0.weight has gradient mean of 3.140749216079712\n"
     ]
    }
   ],
   "source": [
    "def print_gradient(model, x):\n",
    "    output = model(x)\n",
    "    target = torch.tensor([[0.]])\n",
    "\n",
    "    loss = nn.MSELoss()\n",
    "    loss = loss(output, target)\n",
    "\n",
    "    loss.backward()\n",
    "\n",
    "    for name, param in model.named_parameters():\n",
    "        if 'weight' in name:\n",
    "            print(f\"{name} has gradient mean of {param.grad.abs().mean().item()}\")\n",
    "\n",
    "\n",
    "# Initialize the network without shortcut connections\n",
    "layer_sizes = [3, 3, 3, 3, 3, 1]\n",
    "use_shortcut = False\n",
    "sample_input = torch.tensor([[1., 0., -1.]])\n",
    "torch.manual_seed(123)\n",
    "model_wo_shortcut = ExampleDeepNeuralNetwork(layer_sizes, use_shortcut)\n",
    "print(\"Without shortcut connections:\")\n",
    "print_gradient(model_wo_shortcut, sample_input)\n",
    "print()\n",
    "# Initialize the network with shortcut connections\n",
    "torch.manual_seed(123)\n",
    "use_shortcut = True\n",
    "model_with_shortcut = ExampleDeepNeuralNetwork(layer_sizes, use_shortcut)\n",
    "print(\"With shortcut connections:\")\n",
    "print_gradient(model_with_shortcut, sample_input)"
   ]
  },
  {
   "cell_type": "markdown",
   "metadata": {},
   "source": [
    "### Putting it together in a transformer block\n",
    "\n",
    "Now that we have implemented the various parts required to create a transformer block, we can create class `TransformerBlock`, using the `MultiHeadAttention` we implemented in Chapter 3."
   ]
  },
  {
   "cell_type": "code",
   "execution_count": 44,
   "metadata": {},
   "outputs": [],
   "source": [
    "import sys\n",
    "import os\n",
    "sys.path.append(os.path.dirname(os.path.abspath('.')))\n",
    "\n",
    "from Chapter3.multihead_attention import MultiHeadAttention\n",
    "\n",
    "\n",
    "class TransformerBlock(nn.Module):\n",
    "    def __init__(self, config):\n",
    "        super().__init__()\n",
    "        self.attention = MultiHeadAttention(\n",
    "            d_in=config[\"emb_dim\"],\n",
    "            d_out=config[\"emb_dim\"],\n",
    "            context_length=config[\"context_length\"],\n",
    "            dropout=config[\"drop_rate\"],\n",
    "            num_heads=config[\"n_heads\"],\n",
    "            qkv_bias=config[\"qkv_bias\"]\n",
    "        )\n",
    "        self.feed_forward = FeedForward(config)\n",
    "        self.ln1 = LayerNorm(config[\"emb_dim\"])\n",
    "        self.ln2 = LayerNorm(config[\"emb_dim\"])\n",
    "        self.drop_shortcut = nn.Dropout(config[\"drop_rate\"])\n",
    "        \n",
    "    def forward(self, x):\n",
    "        # Apply the attention block with shortcut connection\n",
    "        shortcut = x\n",
    "        x = self.ln1(x)\n",
    "        x = self.attention(x)\n",
    "        x = self.drop_shortcut(x)\n",
    "        x = x + shortcut\n",
    "\n",
    "        # Apply the feed-forward network with shortcut connection\n",
    "        shortcut = x\n",
    "        x = self.ln2(x)\n",
    "        x = self.feed_forward(x)\n",
    "        x = self.drop_shortcut(x)\n",
    "        x = x + shortcut\n",
    "\n",
    "        return x"
   ]
  },
  {
   "cell_type": "markdown",
   "metadata": {},
   "source": [
    "Here, we apply layer normalization *before* the two components of the transformer block and dropout after each component (PreLayerNorm). The original implementation of the transformer applied layer normalization *after* self-attention and feed-forward network which often lead to worse training dynamics."
   ]
  },
  {
   "cell_type": "markdown",
   "metadata": {},
   "source": [
    "Let's test the transformer block on our sample input. Comparing input and output shape we see that each transformer block does not alter the dimension of the input. This is crucial feature of the architecture which allows its application to many sequence-to-sequence tasks. While the dimension doesn't change, the encoded information in the output context vector does encapsulate the full input sequence. So the output vector is updated with the new contextual information from the entire input sequence."
   ]
  },
  {
   "cell_type": "code",
   "execution_count": 46,
   "metadata": {},
   "outputs": [
    {
     "name": "stdout",
     "output_type": "stream",
     "text": [
      "Input shape: torch.Size([2, 4, 768])\n",
      "Output shape: torch.Size([2, 4, 768])\n"
     ]
    }
   ],
   "source": [
    "torch.manual_seed(123)\n",
    "x = torch.randn(2, 4, GPT_CONFIG_124M[\"emb_dim\"])\n",
    "transformer_block = TransformerBlock(GPT_CONFIG_124M)\n",
    "out = transformer_block(x)\n",
    "print(\"Input shape:\", x.shape)\n",
    "print(\"Output shape:\", out.shape)"
   ]
  },
  {
   "cell_type": "markdown",
   "metadata": {},
   "source": [
    "### The GPT model\n",
    "\n",
    "We are now ready to put the full GPT model architecture together."
   ]
  },
  {
   "cell_type": "code",
   "execution_count": 47,
   "metadata": {},
   "outputs": [],
   "source": [
    "class GPTModel(nn.Module):\n",
    "    def __init__(self, config):\n",
    "        super().__init__()\n",
    "        self.tok_emb = nn.Embedding(config[\"vocab_size\"], config[\"emb_dim\"])\n",
    "        self.pos_emb = nn.Embedding(config[\"context_length\"], config[\"emb_dim\"])\n",
    "        self.drop_emb = nn.Dropout(config[\"drop_rate\"])\n",
    "        \n",
    "        self.transformer_blocks = nn.Sequential(\n",
    "            *[TransformerBlock(config) for _ in range(config[\"n_layers\"])]\n",
    "        )\n",
    "        self.final_norm = LayerNorm(config[\"emb_dim\"])\n",
    "        self.out_head = nn.Linear(config[\"emb_dim\"], config[\"vocab_size\"], bias=False)\n",
    "        \n",
    "    def forward(self, in_idx):\n",
    "        batch_size, seq_len = in_idx.shape\n",
    "        tok_embeds = self.tok_emb(in_idx)\n",
    "        pos_embeds = self.pos_emb(torch.arange(seq_len, device=in_idx.device))\n",
    "        x = tok_embeds + pos_embeds\n",
    "        x = self.drop_emb(x)\n",
    "        x = self.transformer_blocks(x)\n",
    "        x = self.final_norm(x)\n",
    "        logits = self.out_head(x)\n",
    "        return logits"
   ]
  },
  {
   "cell_type": "code",
   "execution_count": 61,
   "metadata": {},
   "outputs": [
    {
     "name": "stdout",
     "output_type": "stream",
     "text": [
      "Input batch:\n",
      " tensor([[6109, 3626, 6100,  345],\n",
      "        [6109, 1110, 6622,  257]])\n",
      "Output logits shape: torch.Size([2, 4, 50257])\n",
      "Output logits:\n",
      " tensor([[[ 0.3613,  0.4223, -0.0711,  ...,  0.3483,  0.4661, -0.2838],\n",
      "         [-0.1792, -0.5660, -0.9485,  ...,  0.0477,  0.5181, -0.3168],\n",
      "         [ 0.7120,  0.0332,  0.1085,  ...,  0.1018, -0.4327, -0.2553],\n",
      "         [-1.0076,  0.3418, -0.1190,  ...,  0.7195,  0.4023,  0.0532]],\n",
      "\n",
      "        [[-0.2564,  0.0900,  0.0335,  ...,  0.2659,  0.4454, -0.6806],\n",
      "         [ 0.1230,  0.3653, -0.2074,  ...,  0.7705,  0.2710,  0.2246],\n",
      "         [ 1.0558,  1.0318, -0.2800,  ...,  0.6936,  0.3205, -0.3178],\n",
      "         [-0.1565,  0.3926,  0.3288,  ...,  1.2630, -0.1858,  0.0388]]],\n",
      "       grad_fn=<UnsafeViewBackward0>)\n"
     ]
    }
   ],
   "source": [
    "torch.manual_seed(123)\n",
    "gpt_model = GPTModel(GPT_CONFIG_124M)\n",
    "\n",
    "out = gpt_model(batch)\n",
    "print(\"Input batch:\\n\", batch)\n",
    "print(\"Output logits shape:\", out.shape)\n",
    "print(\"Output logits:\\n\", out)"
   ]
  },
  {
   "cell_type": "markdown",
   "metadata": {},
   "source": [
    "The output shape is `[2, 4, 50257]` as we have 2 input samples with 4 dimensions each. The last dimension corresponds to the vocabulary size of the tokenizer which is `50257`.\n",
    "\n",
    "We can find the total number of parameters of the model using the `numel()` function."
   ]
  },
  {
   "cell_type": "code",
   "execution_count": 52,
   "metadata": {},
   "outputs": [
    {
     "name": "stdout",
     "output_type": "stream",
     "text": [
      "Total number of parameters: 163,009,536\n"
     ]
    }
   ],
   "source": [
    "total_params = sum(p.numel() for p in gpt_model.parameters())\n",
    "print(f\"Total number of parameters: {total_params:,}\")"
   ]
  },
  {
   "cell_type": "markdown",
   "metadata": {},
   "source": [
    "The reason the number of parameters is not the expected 124 million of GPT-2 is due to the concept of *weight tying* used in the original GPT-2 implementation. It re-uses the token embedding layer in it's output layer.\n",
    "\n",
    "If we print the shape of the token embedding layer and remove the parameters of the output layer from the overall parameter count we end up at the expected 124 million of the original GPT-2 model."
   ]
  },
  {
   "cell_type": "code",
   "execution_count": 53,
   "metadata": {},
   "outputs": [
    {
     "name": "stdout",
     "output_type": "stream",
     "text": [
      "Token embedding layer shape: torch.Size([50257, 768])\n",
      "Output layer shape: torch.Size([50257, 768])\n",
      "Total number of parameters (GPT-2): 124,412,160\n"
     ]
    }
   ],
   "source": [
    "print(f\"Token embedding layer shape: {gpt_model.tok_emb.weight.shape}\")\n",
    "print(f\"Output layer shape: {gpt_model.out_head.weight.shape}\")\n",
    "\n",
    "total_params_gpt2 = (\n",
    "    total_params - sum(p.numel() for p in gpt_model.out_head.parameters())\n",
    ")\n",
    "print(f\"Total number of parameters (GPT-2): {total_params_gpt2:,}\")"
   ]
  },
  {
   "cell_type": "markdown",
   "metadata": {},
   "source": [
    "While weight tying reduces the overall number of parameters and thus the memory footprint of the model, it can also lead to worse training results. For this reason modern LLMs do usually not use weight tying.\n",
    "\n",
    "Another interesting measure to compute is the memory requirement of the model. We will do this for the version without weight tying."
   ]
  },
  {
   "cell_type": "code",
   "execution_count": 55,
   "metadata": {},
   "outputs": [
    {
     "name": "stdout",
     "output_type": "stream",
     "text": [
      "Total memory requirement: 621.83 MB\n"
     ]
    }
   ],
   "source": [
    "total_size_bytes = total_params * 4  # Assuming float32 precision\n",
    "total_size_mb = total_size_bytes / (1024 ** 2)\n",
    "print(f\"Total memory requirement: {total_size_mb:.2f} MB\")"
   ]
  },
  {
   "cell_type": "markdown",
   "metadata": {},
   "source": [
    "We are initializing the smallest GPT-2 version here with 163 million parameters with\n",
    "\n",
    "- a context length of 1024\n",
    "- an embedding dimension of 768\n",
    "- 12 attention heads\n",
    "- 12 transformer blocks\n",
    "\n",
    "GPT-2 large in comparison consists of\n",
    "\n",
    "- a context length of 1024\n",
    "- an embedding dimension of 1280\n",
    "- 20 attention heads\n",
    "- 36 transformer blocks\n",
    "\n",
    "which computes to ~770 million parameters and a memory footprint of ~3GB."
   ]
  },
  {
   "cell_type": "code",
   "execution_count": 59,
   "metadata": {},
   "outputs": [
    {
     "name": "stdout",
     "output_type": "stream",
     "text": [
      "Total number of parameters (GPT-2 large): 773,891,840\n",
      "Total memory requirement: 2952.16 MB\n"
     ]
    }
   ],
   "source": [
    "GPT_LARGE_CONFIG = {\n",
    "    \"vocab_size\": 50257,     # trained on ~50k tokens using BPE tokenizer\n",
    "    \"context_length\": 1024,  # the max number of input tokens the model can handle\n",
    "    \"emb_dim\": 1280,         # the dimension of the embeddings\n",
    "    \"n_heads\": 20,           # the number of attention heads\n",
    "    \"n_layers\": 36,          # the number of transformer blocks\n",
    "    \"drop_rate\": 0.1,        # the dropout rate to prevent overfitting\n",
    "    \"qkv_bias\": False        # whether to use bias in the QKV linear layer\n",
    "}\n",
    "\n",
    "gpt_model_large = GPTModel(GPT_LARGE_CONFIG)\n",
    "total_params_large = sum(p.numel() for p in gpt_model_large.parameters())\n",
    "total_params_gpt2_large = (\n",
    "    total_params_large - sum(p.numel() for p in gpt_model_large.out_head.parameters())\n",
    ")\n",
    "print(f\"Total number of parameters (GPT-2 large): {total_params_gpt2_large:,}\")\n",
    "\n",
    "total_size_bytes = total_params_gpt2_large * 4  # Assuming float32 precision\n",
    "total_size_mb = total_size_bytes / (1024 ** 2)\n",
    "print(f\"Total memory requirement: {total_size_mb:.2f} MB\")\n"
   ]
  },
  {
   "cell_type": "markdown",
   "metadata": {},
   "source": [
    "### Generating Text\n",
    "\n",
    "As a final step we will implement the code required to convert the predicted output tokens to text."
   ]
  },
  {
   "cell_type": "code",
   "execution_count": 60,
   "metadata": {},
   "outputs": [],
   "source": [
    "def generate_text_simple(model, idx, max_new_tokens, context_size):\n",
    "    for _ in range(max_new_tokens):\n",
    "        idx_cond = idx[:, -context_size:]\n",
    "        with torch.no_grad():\n",
    "            logits = model(idx_cond)\n",
    "\n",
    "        # Subset on the last time step which has the logits of the next predicted token\n",
    "        logits = logits[:, -1, :]  # [batch_size, vocab_size]\n",
    "        probs = torch.softmax(logits, dim=-1)\n",
    "        idx_next = torch.argmax(probs, dim=-1, keepdim=True)  # Picks the most likely token\n",
    "        idx = torch.cat((idx, idx_next), dim=1)  # And appends it to the running sequence\n",
    "        \n",
    "    return idx       "
   ]
  },
  {
   "cell_type": "markdown",
   "metadata": {},
   "source": [
    "Given we always pick the most likely next token, this is also called *greedy decoding*. We will implement further sampling techniques to obtain a more variable output in the next chapter.\n",
    "\n",
    "For the moment, we apply our text generation function to a test context."
   ]
  },
  {
   "cell_type": "code",
   "execution_count": 63,
   "metadata": {},
   "outputs": [
    {
     "name": "stdout",
     "output_type": "stream",
     "text": [
      "encoded: [15496, 11, 314, 716]\n",
      "encoded_tensor.shape: torch.Size([1, 4])\n",
      "Output: tensor([[15496,    11,   314,   716, 27018, 24086, 47843, 30961, 42348,  7267]])\n",
      "Output length: 10\n",
      "Decoded text: Hello, I am Featureiman Byeswickattribute argue\n"
     ]
    }
   ],
   "source": [
    "start_context = \"Hello, I am\"\n",
    "encoded = tokenizer.encode(start_context)\n",
    "print(\"encoded:\", encoded)\n",
    "\n",
    "encoded_tensor = torch.tensor(encoded).unsqueeze(0)\n",
    "print(\"encoded_tensor.shape:\", encoded_tensor.shape)\n",
    "\n",
    "# Before we generate text, we set the mnodel into evaluation mode\n",
    "gpt_model.eval()\n",
    "out = generate_text_simple(\n",
    "    gpt_model,\n",
    "    encoded_tensor,\n",
    "    max_new_tokens=6,\n",
    "    context_size=GPT_CONFIG_124M[\"context_length\"]\n",
    ")\n",
    "print(\"Output:\", out)\n",
    "print(\"Output length:\", len(out[0]))\n",
    "\n",
    "decoded_text = tokenizer.decode(out[0].squeeze().tolist())\n",
    "print(\"Decoded text:\", decoded_text)"
   ]
  },
  {
   "cell_type": "markdown",
   "metadata": {},
   "source": [
    "Given we haven't trained the model, the output is a incoherent sequence of tokens. This will improve once we train our model in the next Chapter."
   ]
  }
 ],
 "metadata": {
  "kernelspec": {
   "display_name": ".venv",
   "language": "python",
   "name": "python3"
  },
  "language_info": {
   "codemirror_mode": {
    "name": "ipython",
    "version": 3
   },
   "file_extension": ".py",
   "mimetype": "text/x-python",
   "name": "python",
   "nbconvert_exporter": "python",
   "pygments_lexer": "ipython3",
   "version": "3.13.2"
  }
 },
 "nbformat": 4,
 "nbformat_minor": 2
}
